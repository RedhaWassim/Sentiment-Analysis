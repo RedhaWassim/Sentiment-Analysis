{
 "cells": [
  {
   "cell_type": "markdown",
   "metadata": {},
   "source": [
    "# Twitter Sentiment Analysis\n",
    "\n",
    "#### Life cycle of Machine learning Project\n",
    "- Understanding the Problem Statement\n",
    "- Data Collection\n",
    "- Data Checks to perform\n",
    "- Exploratory data analysis\n",
    "- Data Pre-Processing\n",
    "- Model Training\n",
    "- Choose best model\n",
    "### 1) Problem statement\n",
    "This project aims to provide a tool for analyzing the sentiment of tweets related to trending topics on Twitter.\n",
    "### 2) Data Collection\n",
    "Dataset Source - the data is collected by scrapping tweets"
   ]
  },
  {
   "cell_type": "code",
   "execution_count": 7,
   "metadata": {},
   "outputs": [],
   "source": [
    "from sentiment_analysis.data_processing.scrapping.data_scrapping import Topic_producer"
   ]
  },
  {
   "cell_type": "code",
   "execution_count": 10,
   "metadata": {},
   "outputs": [],
   "source": [
    "scrapper=Topic_producer(scrapping_theme=\"hot\",\n",
    "                        topic_number=7,\n",
    "                        comments_number=7,\n",
    "                        stream_name=\"reddit-kinesis-eu\")"
   ]
  },
  {
   "cell_type": "code",
   "execution_count": 11,
   "metadata": {},
   "outputs": [
    {
     "name": "stdout",
     "output_type": "stream",
     "text": [
      "16llgzp posted successfully\n",
      "16lfctt posted successfully\n",
      "16lme7i posted successfully\n",
      "16lkaju posted successfully\n",
      "16ld1v4 posted successfully\n",
      "16llgfh posted successfully\n",
      "16lfn5k posted successfully\n"
     ]
    }
   ],
   "source": [
    "data=scrapper.run()"
   ]
  },
  {
   "cell_type": "markdown",
   "metadata": {},
   "source": [
    "# Processing "
   ]
  },
  {
   "cell_type": "markdown",
   "metadata": {},
   "source": [
    "Post processing : \n",
    "\n",
    "- everything to lower case\n",
    "\n",
    "- split date to -> year , month , day , hour  \n",
    "\n",
    "- over 18 -> 0/1\n",
    "\n",
    "Comment processing : \n",
    "\n",
    "- everything to lower case \n",
    "\n",
    "- is submitter -> 0/1 \n",
    "\n",
    "- split date to -> year , month , day , hour"
   ]
  }
 ],
 "metadata": {
  "kernelspec": {
   "display_name": ".venv",
   "language": "python",
   "name": "python3"
  },
  "language_info": {
   "codemirror_mode": {
    "name": "ipython",
    "version": 3
   },
   "file_extension": ".py",
   "mimetype": "text/x-python",
   "name": "python",
   "nbconvert_exporter": "python",
   "pygments_lexer": "ipython3",
   "version": "3.10.12"
  },
  "orig_nbformat": 4
 },
 "nbformat": 4,
 "nbformat_minor": 2
}
