{
 "cells": [
  {
   "cell_type": "code",
   "execution_count": 1,
   "metadata": {},
   "outputs": [
    {
     "name": "stderr",
     "output_type": "stream",
     "text": [
      "2023-09-19 23:03:08,527:INFO - running ingestion\n",
      "2023-09-19 23:03:08,528:INFO - read data from database\n",
      "2023-09-19 23:03:09,365:INFO - HTTP Request: GET https://reyaxqjdlwrvrdfzbqkp.supabase.co/rest/v1/POSTS?select=%2A \"HTTP/1.1 200 OK\"\n",
      "2023-09-19 23:03:09,368:INFO - split data into train and test\n",
      "2023-09-19 23:03:09,372:INFO - data ingestion completed\n"
     ]
    }
   ],
   "source": [
    "from sentiment_analysis.machine_learning.components.data_ingestion import DataIngestion\n",
    "\n",
    "ingestion= DataIngestion(ingestion_type=\"db\",table_name=\"POSTS\")\n",
    "train_data, test_data=ingestion.run_ingestion()\n",
    "\n"
   ]
  },
  {
   "cell_type": "code",
   "execution_count": 2,
   "metadata": {},
   "outputs": [
    {
     "name": "stderr",
     "output_type": "stream",
     "text": [
      "2023-09-19 23:03:09,445:INFO - getting transformer object\n",
      "2023-09-19 23:03:09,446:INFO - Creating preprocessor object\n",
      "2023-09-19 23:03:09,447:INFO - processor object created\n",
      "2023-09-19 23:03:09,448:INFO - preprocessing the data\n",
      "2023-09-19 23:03:09,462:INFO - preprocessing completed\n"
     ]
    },
    {
     "name": "stdout",
     "output_type": "stream",
     "text": [
      "[Pipeline] ...... (step 1 of 1) Processing drop_columns, total=   0.0s\n",
      "[Pipeline] ........... (step 1 of 3) Processing general, total=   0.0s\n",
      "[Pipeline] ....... (step 1 of 1) Processing bool_to_int, total=   0.0s\n",
      "[Pipeline] ....... (step 2 of 3) Processing categorical, total=   0.0s\n",
      "[Pipeline] .... (step 1 of 1) Processing missing_values, total=   0.0s\n",
      "[Pipeline] ........... (step 3 of 3) Processing textual, total=   0.0s\n"
     ]
    }
   ],
   "source": [
    "from sentiment_analysis.machine_learning.components.data_transformation import DataTransformation\n",
    "\n",
    "transformer=DataTransformation()\n",
    "train_processed,test_processed,path=transformer.transform_df(train_data,test_data)"
   ]
  },
  {
   "cell_type": "code",
   "execution_count": 3,
   "metadata": {},
   "outputs": [
    {
     "ename": "NameError",
     "evalue": "name 'numerical_pipeline' is not defined",
     "output_type": "error",
     "traceback": [
      "\u001b[0;31m---------------------------------------------------------------------------\u001b[0m",
      "\u001b[0;31mNameError\u001b[0m                                 Traceback (most recent call last)",
      "\u001b[1;32m/home/redha/Documents/projects/NLP/Sentiment-Analysis/Notebook/test.ipynb Cell 3\u001b[0m line \u001b[0;36m1\n\u001b[0;32m----> <a href='vscode-notebook-cell:/home/redha/Documents/projects/NLP/Sentiment-Analysis/Notebook/test.ipynb#X25sZmlsZQ%3D%3D?line=0'>1</a>\u001b[0m (\u001b[39m\"\u001b[39m\u001b[39mnumerical\u001b[39m\u001b[39m\"\u001b[39m, numerical_pipeline),\n",
      "\u001b[0;31mNameError\u001b[0m: name 'numerical_pipeline' is not defined"
     ]
    }
   ],
   "source": []
  }
 ],
 "metadata": {
  "kernelspec": {
   "display_name": ".venv",
   "language": "python",
   "name": "python3"
  },
  "language_info": {
   "codemirror_mode": {
    "name": "ipython",
    "version": 3
   },
   "file_extension": ".py",
   "mimetype": "text/x-python",
   "name": "python",
   "nbconvert_exporter": "python",
   "pygments_lexer": "ipython3",
   "version": "3.10.12"
  },
  "orig_nbformat": 4
 },
 "nbformat": 4,
 "nbformat_minor": 2
}
