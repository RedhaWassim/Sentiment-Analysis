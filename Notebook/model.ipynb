{
 "cells": [
  {
   "cell_type": "code",
   "execution_count": null,
   "metadata": {},
   "outputs": [],
   "source": [
    "import sagemaker\n",
    "\n",
    "import boto3\n",
    "from sklearn.model_selection import train_test_split\n",
    "\n",
    "import pandas as pd\n",
    "\n"
   ]
  },
  {
   "cell_type": "code",
   "execution_count": 35,
   "metadata": {},
   "outputs": [],
   "source": [
    "import os\n",
    "from supabase import create_client, Client\n",
    "\n",
    "url: str = os.environ.get(\"SUPABASE_URL\")\n",
    "key: str = os.environ.get(\"SUPABASE_KEY\")\n",
    "supabase: Client = create_client(url, key)"
   ]
  },
  {
   "cell_type": "code",
   "execution_count": 36,
   "metadata": {},
   "outputs": [
    {
     "name": "stderr",
     "output_type": "stream",
     "text": [
      "2023-09-19 14:50:15,038:INFO - HTTP Request: GET https://reyaxqjdlwrvrdfzbqkp.supabase.co/rest/v1/POSTS?select=%2A \"HTTP/1.1 200 OK\"\n"
     ]
    }
   ],
   "source": [
    "response = supabase.table('POSTS').select(\"*\").execute()"
   ]
  },
  {
   "cell_type": "code",
   "execution_count": 33,
   "metadata": {},
   "outputs": [],
   "source": [
    "import pandas as pd\n",
    "\n",
    "df=pd.DataFrame(response.data)"
   ]
  },
  {
   "cell_type": "code",
   "execution_count": 34,
   "metadata": {},
   "outputs": [
    {
     "data": {
      "text/html": [
       "<div>\n",
       "<style scoped>\n",
       "    .dataframe tbody tr th:only-of-type {\n",
       "        vertical-align: middle;\n",
       "    }\n",
       "\n",
       "    .dataframe tbody tr th {\n",
       "        vertical-align: top;\n",
       "    }\n",
       "\n",
       "    .dataframe thead th {\n",
       "        text-align: right;\n",
       "    }\n",
       "</style>\n",
       "<table border=\"1\" class=\"dataframe\">\n",
       "  <thead>\n",
       "    <tr style=\"text-align: right;\">\n",
       "      <th></th>\n",
       "      <th>TITLE</th>\n",
       "      <th>POST_DATE</th>\n",
       "      <th>SCORE</th>\n",
       "      <th>NUM_COMMENTS</th>\n",
       "      <th>UPVOTE_RATIO</th>\n",
       "      <th>OVER_18</th>\n",
       "      <th>YEAR</th>\n",
       "      <th>MONTH</th>\n",
       "      <th>DAY</th>\n",
       "      <th>HOUR</th>\n",
       "      <th>id</th>\n",
       "    </tr>\n",
       "  </thead>\n",
       "  <tbody>\n",
       "    <tr>\n",
       "      <th>0</th>\n",
       "      <td>aita for telling my (42m) daughter (14f) that ...</td>\n",
       "      <td>1695010597</td>\n",
       "      <td>1533</td>\n",
       "      <td>437</td>\n",
       "      <td>0.90</td>\n",
       "      <td>False</td>\n",
       "      <td>2023</td>\n",
       "      <td>9</td>\n",
       "      <td>18</td>\n",
       "      <td>4</td>\n",
       "      <td>16llgzp</td>\n",
       "    </tr>\n",
       "    <tr>\n",
       "      <th>1</th>\n",
       "      <td>if your child went on a hunger strike because ...</td>\n",
       "      <td>1694992700</td>\n",
       "      <td>3078</td>\n",
       "      <td>2245</td>\n",
       "      <td>0.91</td>\n",
       "      <td>False</td>\n",
       "      <td>2023</td>\n",
       "      <td>9</td>\n",
       "      <td>17</td>\n",
       "      <td>23</td>\n",
       "      <td>16lfctt</td>\n",
       "    </tr>\n",
       "    <tr>\n",
       "      <th>2</th>\n",
       "      <td>that 70’s show and how i met your mother were ...</td>\n",
       "      <td>1695013573</td>\n",
       "      <td>764</td>\n",
       "      <td>329</td>\n",
       "      <td>0.76</td>\n",
       "      <td>False</td>\n",
       "      <td>2023</td>\n",
       "      <td>9</td>\n",
       "      <td>18</td>\n",
       "      <td>5</td>\n",
       "      <td>16lme7i</td>\n",
       "    </tr>\n",
       "    <tr>\n",
       "      <th>3</th>\n",
       "      <td>cmv: housing will never be truly affordable so...</td>\n",
       "      <td>1695006889</td>\n",
       "      <td>133</td>\n",
       "      <td>42</td>\n",
       "      <td>0.87</td>\n",
       "      <td>False</td>\n",
       "      <td>2023</td>\n",
       "      <td>9</td>\n",
       "      <td>18</td>\n",
       "      <td>3</td>\n",
       "      <td>16lkaju</td>\n",
       "    </tr>\n",
       "    <tr>\n",
       "      <th>4</th>\n",
       "      <td>how did you find out your so was cheating on you?</td>\n",
       "      <td>1694986853</td>\n",
       "      <td>4097</td>\n",
       "      <td>2586</td>\n",
       "      <td>0.90</td>\n",
       "      <td>True</td>\n",
       "      <td>2023</td>\n",
       "      <td>9</td>\n",
       "      <td>17</td>\n",
       "      <td>21</td>\n",
       "      <td>16ld1v4</td>\n",
       "    </tr>\n",
       "    <tr>\n",
       "      <th>5</th>\n",
       "      <td>average and ugly people don't owe anyone atten...</td>\n",
       "      <td>1695010553</td>\n",
       "      <td>802</td>\n",
       "      <td>275</td>\n",
       "      <td>0.88</td>\n",
       "      <td>False</td>\n",
       "      <td>2023</td>\n",
       "      <td>9</td>\n",
       "      <td>18</td>\n",
       "      <td>4</td>\n",
       "      <td>16llgfh</td>\n",
       "    </tr>\n",
       "    <tr>\n",
       "      <th>6</th>\n",
       "      <td>horror movie trailers shouldn’t be allowed on ...</td>\n",
       "      <td>1694993486</td>\n",
       "      <td>1770</td>\n",
       "      <td>648</td>\n",
       "      <td>0.79</td>\n",
       "      <td>False</td>\n",
       "      <td>2023</td>\n",
       "      <td>9</td>\n",
       "      <td>17</td>\n",
       "      <td>23</td>\n",
       "      <td>16lfn5k</td>\n",
       "    </tr>\n",
       "  </tbody>\n",
       "</table>\n",
       "</div>"
      ],
      "text/plain": [
       "                                               TITLE   POST_DATE  SCORE  \\\n",
       "0  aita for telling my (42m) daughter (14f) that ...  1695010597   1533   \n",
       "1  if your child went on a hunger strike because ...  1694992700   3078   \n",
       "2  that 70’s show and how i met your mother were ...  1695013573    764   \n",
       "3  cmv: housing will never be truly affordable so...  1695006889    133   \n",
       "4  how did you find out your so was cheating on you?  1694986853   4097   \n",
       "5  average and ugly people don't owe anyone atten...  1695010553    802   \n",
       "6  horror movie trailers shouldn’t be allowed on ...  1694993486   1770   \n",
       "\n",
       "   NUM_COMMENTS  UPVOTE_RATIO  OVER_18  YEAR  MONTH  DAY  HOUR       id  \n",
       "0           437          0.90    False  2023      9   18     4  16llgzp  \n",
       "1          2245          0.91    False  2023      9   17    23  16lfctt  \n",
       "2           329          0.76    False  2023      9   18     5  16lme7i  \n",
       "3            42          0.87    False  2023      9   18     3  16lkaju  \n",
       "4          2586          0.90     True  2023      9   17    21  16ld1v4  \n",
       "5           275          0.88    False  2023      9   18     4  16llgfh  \n",
       "6           648          0.79    False  2023      9   17    23  16lfn5k  "
      ]
     },
     "execution_count": 34,
     "metadata": {},
     "output_type": "execute_result"
    }
   ],
   "source": [
    "df"
   ]
  },
  {
   "cell_type": "code",
   "execution_count": null,
   "metadata": {},
   "outputs": [],
   "source": [
    "from sklearn.model_selection import train_test_split"
   ]
  }
 ],
 "metadata": {
  "kernelspec": {
   "display_name": ".venv",
   "language": "python",
   "name": "python3"
  },
  "language_info": {
   "codemirror_mode": {
    "name": "ipython",
    "version": 3
   },
   "file_extension": ".py",
   "mimetype": "text/x-python",
   "name": "python",
   "nbconvert_exporter": "python",
   "pygments_lexer": "ipython3",
   "version": "3.10.12"
  },
  "orig_nbformat": 4
 },
 "nbformat": 4,
 "nbformat_minor": 2
}
