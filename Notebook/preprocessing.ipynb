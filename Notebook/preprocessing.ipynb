{
 "cells": [
  {
   "cell_type": "code",
   "execution_count": 1,
   "metadata": {},
   "outputs": [
    {
     "name": "stderr",
     "output_type": "stream",
     "text": [
      "2023-09-20 15:58:10,650:INFO - running ingestion\n",
      "2023-09-20 15:58:10,651:INFO - read data from database\n",
      "2023-09-20 15:58:16,418:INFO - HTTP Request: GET https://reyaxqjdlwrvrdfzbqkp.supabase.co/rest/v1/POSTS?select=%2A \"HTTP/1.1 200 OK\"\n",
      "2023-09-20 15:58:16,420:INFO - split data into train and test\n",
      "2023-09-20 15:58:16,425:INFO - data ingestion completed\n"
     ]
    }
   ],
   "source": [
    "from sentiment_analysis.machine_learning.components.data_ingestion import DataIngestion\n",
    "\n",
    "ingestion= DataIngestion(ingestion_type=\"db\",table_name=\"POSTS\")\n",
    "train_data, test_data=ingestion.run_ingestion()\n",
    "\n"
   ]
  },
  {
   "cell_type": "code",
   "execution_count": 3,
   "metadata": {},
   "outputs": [
    {
     "name": "stderr",
     "output_type": "stream",
     "text": [
      "2023-09-20 15:58:19,628:INFO - getting transformer object\n",
      "2023-09-20 15:58:19,629:INFO - Creating preprocessor object\n",
      "2023-09-20 15:58:19,629:INFO - processor object created\n",
      "2023-09-20 15:58:19,629:INFO - preprocessing the data\n",
      "2023-09-20 15:58:19,797:INFO - preprocessing completed\n"
     ]
    }
   ],
   "source": [
    "from sentiment_analysis.machine_learning.components.data_transformation import DataTransformation\n",
    "\n",
    "transformer=DataTransformation()\n",
    "train_processed,test_processed,path=transformer.transform_df(train_data,test_data)"
   ]
  },
  {
   "cell_type": "code",
   "execution_count": 4,
   "metadata": {},
   "outputs": [
    {
     "data": {
      "text/html": [
       "<div>\n",
       "<style scoped>\n",
       "    .dataframe tbody tr th:only-of-type {\n",
       "        vertical-align: middle;\n",
       "    }\n",
       "\n",
       "    .dataframe tbody tr th {\n",
       "        vertical-align: top;\n",
       "    }\n",
       "\n",
       "    .dataframe thead th {\n",
       "        text-align: right;\n",
       "    }\n",
       "</style>\n",
       "<table border=\"1\" class=\"dataframe\">\n",
       "  <thead>\n",
       "    <tr style=\"text-align: right;\">\n",
       "      <th></th>\n",
       "      <th>n_char</th>\n",
       "      <th>tokenz</th>\n",
       "      <th>SCORE</th>\n",
       "      <th>NUM_COMMENTS</th>\n",
       "      <th>OVER_18</th>\n",
       "      <th>UPVOTE_RATIO</th>\n",
       "      <th>YEAR</th>\n",
       "      <th>MONTH</th>\n",
       "      <th>DAY</th>\n",
       "      <th>HOUR</th>\n",
       "    </tr>\n",
       "  </thead>\n",
       "  <tbody>\n",
       "    <tr>\n",
       "      <th>0</th>\n",
       "      <td>68</td>\n",
       "      <td>[average, ugly, people, owe, attention, relati...</td>\n",
       "      <td>0.168769</td>\n",
       "      <td>0.091588</td>\n",
       "      <td>0</td>\n",
       "      <td>0.88</td>\n",
       "      <td>2023.0</td>\n",
       "      <td>9.0</td>\n",
       "      <td>18.0</td>\n",
       "      <td>4.0</td>\n",
       "    </tr>\n",
       "    <tr>\n",
       "      <th>1</th>\n",
       "      <td>66</td>\n",
       "      <td>[70, meet, mother, terrible, television, .]</td>\n",
       "      <td>0.159183</td>\n",
       "      <td>0.112814</td>\n",
       "      <td>0</td>\n",
       "      <td>0.76</td>\n",
       "      <td>2023.0</td>\n",
       "      <td>9.0</td>\n",
       "      <td>18.0</td>\n",
       "      <td>5.0</td>\n",
       "    </tr>\n",
       "    <tr>\n",
       "      <th>2</th>\n",
       "      <td>49</td>\n",
       "      <td>[find, cheat, ?]</td>\n",
       "      <td>1.0</td>\n",
       "      <td>1.0</td>\n",
       "      <td>1</td>\n",
       "      <td>0.9</td>\n",
       "      <td>2023.0</td>\n",
       "      <td>9.0</td>\n",
       "      <td>17.0</td>\n",
       "      <td>21.0</td>\n",
       "    </tr>\n",
       "    <tr>\n",
       "      <th>3</th>\n",
       "      <td>114</td>\n",
       "      <td>[cmv, :, housing, truly, affordable, long, pro...</td>\n",
       "      <td>0.0</td>\n",
       "      <td>0.0</td>\n",
       "      <td>0</td>\n",
       "      <td>0.87</td>\n",
       "      <td>2023.0</td>\n",
       "      <td>9.0</td>\n",
       "      <td>18.0</td>\n",
       "      <td>3.0</td>\n",
       "    </tr>\n",
       "    <tr>\n",
       "      <th>4</th>\n",
       "      <td>56</td>\n",
       "      <td>[horror, movie, trailer, allow, television]</td>\n",
       "      <td>0.412967</td>\n",
       "      <td>0.238208</td>\n",
       "      <td>0</td>\n",
       "      <td>0.79</td>\n",
       "      <td>2023.0</td>\n",
       "      <td>9.0</td>\n",
       "      <td>17.0</td>\n",
       "      <td>23.0</td>\n",
       "    </tr>\n",
       "  </tbody>\n",
       "</table>\n",
       "</div>"
      ],
      "text/plain": [
       "  n_char                                             tokenz     SCORE  \\\n",
       "0     68  [average, ugly, people, owe, attention, relati...  0.168769   \n",
       "1     66        [70, meet, mother, terrible, television, .]  0.159183   \n",
       "2     49                                   [find, cheat, ?]       1.0   \n",
       "3    114  [cmv, :, housing, truly, affordable, long, pro...       0.0   \n",
       "4     56        [horror, movie, trailer, allow, television]  0.412967   \n",
       "\n",
       "  NUM_COMMENTS OVER_18 UPVOTE_RATIO    YEAR MONTH   DAY  HOUR  \n",
       "0     0.091588       0         0.88  2023.0   9.0  18.0   4.0  \n",
       "1     0.112814       0         0.76  2023.0   9.0  18.0   5.0  \n",
       "2          1.0       1          0.9  2023.0   9.0  17.0  21.0  \n",
       "3          0.0       0         0.87  2023.0   9.0  18.0   3.0  \n",
       "4     0.238208       0         0.79  2023.0   9.0  17.0  23.0  "
      ]
     },
     "execution_count": 4,
     "metadata": {},
     "output_type": "execute_result"
    }
   ],
   "source": [
    "train_processed"
   ]
  },
  {
   "cell_type": "code",
   "execution_count": 5,
   "metadata": {},
   "outputs": [
    {
     "data": {
      "text/html": [
       "<div>\n",
       "<style scoped>\n",
       "    .dataframe tbody tr th:only-of-type {\n",
       "        vertical-align: middle;\n",
       "    }\n",
       "\n",
       "    .dataframe tbody tr th {\n",
       "        vertical-align: top;\n",
       "    }\n",
       "\n",
       "    .dataframe thead th {\n",
       "        text-align: right;\n",
       "    }\n",
       "</style>\n",
       "<table border=\"1\" class=\"dataframe\">\n",
       "  <thead>\n",
       "    <tr style=\"text-align: right;\">\n",
       "      <th></th>\n",
       "      <th>n_char</th>\n",
       "      <th>tokenz</th>\n",
       "      <th>SCORE</th>\n",
       "      <th>NUM_COMMENTS</th>\n",
       "      <th>OVER_18</th>\n",
       "      <th>UPVOTE_RATIO</th>\n",
       "      <th>YEAR</th>\n",
       "      <th>MONTH</th>\n",
       "      <th>DAY</th>\n",
       "      <th>HOUR</th>\n",
       "    </tr>\n",
       "  </thead>\n",
       "  <tbody>\n",
       "    <tr>\n",
       "      <th>0</th>\n",
       "      <td>102</td>\n",
       "      <td>[aita, tell, (, 42, m, ), daughter, (, 14f, ),...</td>\n",
       "      <td>0.353179</td>\n",
       "      <td>0.155267</td>\n",
       "      <td>0</td>\n",
       "      <td>0.9</td>\n",
       "      <td>2023.0</td>\n",
       "      <td>9.0</td>\n",
       "      <td>18.0</td>\n",
       "      <td>4.0</td>\n",
       "    </tr>\n",
       "    <tr>\n",
       "      <th>1</th>\n",
       "      <td>139</td>\n",
       "      <td>[child, go, hunger, strike, wanted, eat, fast,...</td>\n",
       "      <td>0.742936</td>\n",
       "      <td>0.865959</td>\n",
       "      <td>0</td>\n",
       "      <td>0.91</td>\n",
       "      <td>2023.0</td>\n",
       "      <td>9.0</td>\n",
       "      <td>17.0</td>\n",
       "      <td>23.0</td>\n",
       "    </tr>\n",
       "  </tbody>\n",
       "</table>\n",
       "</div>"
      ],
      "text/plain": [
       "  n_char                                             tokenz     SCORE  \\\n",
       "0    102  [aita, tell, (, 42, m, ), daughter, (, 14f, ),...  0.353179   \n",
       "1    139  [child, go, hunger, strike, wanted, eat, fast,...  0.742936   \n",
       "\n",
       "  NUM_COMMENTS OVER_18 UPVOTE_RATIO    YEAR MONTH   DAY  HOUR  \n",
       "0     0.155267       0          0.9  2023.0   9.0  18.0   4.0  \n",
       "1     0.865959       0         0.91  2023.0   9.0  17.0  23.0  "
      ]
     },
     "execution_count": 5,
     "metadata": {},
     "output_type": "execute_result"
    }
   ],
   "source": [
    "test_processed"
   ]
  },
  {
   "cell_type": "code",
   "execution_count": null,
   "metadata": {},
   "outputs": [],
   "source": []
  }
 ],
 "metadata": {
  "kernelspec": {
   "display_name": ".venv",
   "language": "python",
   "name": "python3"
  },
  "language_info": {
   "codemirror_mode": {
    "name": "ipython",
    "version": 3
   },
   "file_extension": ".py",
   "mimetype": "text/x-python",
   "name": "python",
   "nbconvert_exporter": "python",
   "pygments_lexer": "ipython3",
   "version": "3.10.12"
  },
  "orig_nbformat": 4
 },
 "nbformat": 4,
 "nbformat_minor": 2
}
